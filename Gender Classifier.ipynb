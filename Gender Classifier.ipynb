{
 "cells": [
  {
   "cell_type": "code",
   "execution_count": 19,
   "id": "6d6f90e8-3ded-4013-a910-c80a8d017506",
   "metadata": {},
   "outputs": [],
   "source": [
    "df = pd.read_csv(\"name_gender_dataset.csv\")\n",
    "df=df.drop(columns=['Count','Probability'])"
   ]
  },
  {
   "cell_type": "code",
   "execution_count": 20,
   "id": "3796aa79-641b-4e20-b606-2c80c037f0e4",
   "metadata": {},
   "outputs": [],
   "source": [
    "\n",
    "\n",
    "\n",
    "from sklearn.preprocessing import LabelEncoder\n",
    "\n",
    "\n",
    "le = LabelEncoder()\n",
    "y = le.fit_transform(df['Gender'])\n",
    "\n",
    "\n",
    "from sklearn.feature_extraction.text import TfidfVectorizer\n",
    "tfidf = TfidfVectorizer(analyzer='char', ngram_range=(2, 3), max_features=1000)\n",
    "X = tfidf.fit_transform(df['Name'])\n",
    "\n",
    "\n"
   ]
  },
  {
   "cell_type": "code",
   "execution_count": 21,
   "id": "e0e25348-3887-4948-bb2f-392819983d40",
   "metadata": {},
   "outputs": [
    {
     "name": "stdout",
     "output_type": "stream",
     "text": [
      "Accuracy: 77.21%\n"
     ]
    }
   ],
   "source": [
    "from sklearn.model_selection import train_test_split\n",
    "X_train, X_test, y_train, y_test = train_test_split(X, y, test_size=0.33, random_state=42)\n",
    "\n",
    "\n",
    "from sklearn.linear_model import LogisticRegression\n",
    "model = LogisticRegression(max_iter=1000)\n",
    "model.fit(X_train, y_train)\n",
    "\n",
    "from sklearn.metrics import accuracy_score\n",
    "y_pred = model.predict(X_test)\n",
    "print(f\"Accuracy: {accuracy_score(y_test, y_pred) * 100:.2f}%\")\n"
   ]
  },
  {
   "cell_type": "code",
   "execution_count": 18,
   "id": "21218c18-b794-4d8b-bf91-09c393b28342",
   "metadata": {},
   "outputs": [
    {
     "name": "stdin",
     "output_type": "stream",
     "text": [
      "Enter a name:  sushanth\n"
     ]
    },
    {
     "name": "stdout",
     "output_type": "stream",
     "text": [
      "Predicted Gender: M\n"
     ]
    }
   ],
   "source": [
    "user_input = input(\"Enter a name: \")\n",
    "vector = cv.transform([user_input])\n",
    "pred = classifier.predict(vector)\n",
    "print(\"Predicted Gender:\", le.inverse_transform(pred)[0])"
   ]
  },
  {
   "cell_type": "code",
   "execution_count": null,
   "id": "9490c3ce-a4f7-4526-b6e9-f231210aa787",
   "metadata": {},
   "outputs": [],
   "source": []
  }
 ],
 "metadata": {
  "kernelspec": {
   "display_name": "Python 3 (ipykernel)",
   "language": "python",
   "name": "python3"
  },
  "language_info": {
   "codemirror_mode": {
    "name": "ipython",
    "version": 3
   },
   "file_extension": ".py",
   "mimetype": "text/x-python",
   "name": "python",
   "nbconvert_exporter": "python",
   "pygments_lexer": "ipython3",
   "version": "3.11.7"
  }
 },
 "nbformat": 4,
 "nbformat_minor": 5
}
